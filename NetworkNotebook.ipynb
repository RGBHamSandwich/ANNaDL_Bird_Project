{
 "cells": [
  {
   "cell_type": "markdown",
   "metadata": {},
   "source": [
    "# Birdsong Classification Model\n",
    "by Beck, Carly, River, and Solomon"
   ]
  },
  {
   "cell_type": "markdown",
   "metadata": {},
   "source": [
    "## Part 0. Importing Packages"
   ]
  },
  {
   "cell_type": "code",
   "execution_count": 1,
   "metadata": {},
   "outputs": [],
   "source": [
    "## clean up imports after :) ##\n",
    "# don't forget 'pip install -r requirements.txt'\n",
    "\n",
    "\n",
    "# the usual\n",
    "import numpy as np\n",
    "import pandas as pd\n",
    "import matplotlib.pyplot as plt\n",
    "import seaborn as sns\n",
    "import torch\n",
    "from collections import Counter\n",
    "\n",
    "# tensorflow and tings\n",
    "from tensorflow.keras.models import Sequential\n",
    "from tensorflow.keras.layers import Dense, Dropout, Conv2D, MaxPooling2D, Flatten\n",
    "from tensorflow.keras.optimizers import SGD\n",
    "from tensorflow.keras.preprocessing.image import load_img\n",
    "from tensorflow.keras.preprocessing.image import img_to_array\n",
    "from tensorflow.keras.applications.densenet import preprocess_input\n",
    "\n",
    "# sklearn tings\n",
    "from sklearn.model_selection import train_test_split\n",
    "from sklearn.metrics import (\n",
    "    accuracy_score, precision_score, recall_score, f1_score, \n",
    "    confusion_matrix\n",
    ")\n",
    "from sklearn import metrics"
   ]
  },
  {
   "cell_type": "code",
   "execution_count": 2,
   "metadata": {},
   "outputs": [
    {
     "ename": "FileNotFoundError",
     "evalue": "[Errno 2] No such file or directory: 'otter.jpg'",
     "output_type": "error",
     "traceback": [
      "\u001b[0;31m---------------------------------------------------------------------------\u001b[0m",
      "\u001b[0;31mFileNotFoundError\u001b[0m                         Traceback (most recent call last)",
      "Cell \u001b[0;32mIn[2], line 4\u001b[0m\n\u001b[1;32m      1\u001b[0m \u001b[38;5;66;03m# import the data <3 (copied from week 6)\u001b[39;00m\n\u001b[1;32m      2\u001b[0m \u001b[38;5;66;03m# how can we iterate this to get all the data into numpy arrays?\u001b[39;00m\n\u001b[0;32m----> 4\u001b[0m image \u001b[38;5;241m=\u001b[39m load_img(\u001b[38;5;124m'\u001b[39m\u001b[38;5;124motter.jpg\u001b[39m\u001b[38;5;124m'\u001b[39m, target_size\u001b[38;5;241m=\u001b[39m(\u001b[38;5;241m224\u001b[39m, \u001b[38;5;241m224\u001b[39m))\n\u001b[1;32m      5\u001b[0m \u001b[38;5;66;03m# convert the image pixels to a numpy array\u001b[39;00m\n\u001b[1;32m      6\u001b[0m image \u001b[38;5;241m=\u001b[39m img_to_array(image)\n",
      "File \u001b[0;32m/opt/anaconda3/lib/python3.12/site-packages/keras/src/utils/image_utils.py:235\u001b[0m, in \u001b[0;36mload_img\u001b[0;34m(path, color_mode, target_size, interpolation, keep_aspect_ratio)\u001b[0m\n\u001b[1;32m    233\u001b[0m     \u001b[38;5;28;01mif\u001b[39;00m \u001b[38;5;28misinstance\u001b[39m(path, pathlib\u001b[38;5;241m.\u001b[39mPath):\n\u001b[1;32m    234\u001b[0m         path \u001b[38;5;241m=\u001b[39m \u001b[38;5;28mstr\u001b[39m(path\u001b[38;5;241m.\u001b[39mresolve())\n\u001b[0;32m--> 235\u001b[0m     \u001b[38;5;28;01mwith\u001b[39;00m \u001b[38;5;28mopen\u001b[39m(path, \u001b[38;5;124m\"\u001b[39m\u001b[38;5;124mrb\u001b[39m\u001b[38;5;124m\"\u001b[39m) \u001b[38;5;28;01mas\u001b[39;00m f:\n\u001b[1;32m    236\u001b[0m         img \u001b[38;5;241m=\u001b[39m pil_image\u001b[38;5;241m.\u001b[39mopen(io\u001b[38;5;241m.\u001b[39mBytesIO(f\u001b[38;5;241m.\u001b[39mread()))\n\u001b[1;32m    237\u001b[0m \u001b[38;5;28;01melse\u001b[39;00m:\n",
      "\u001b[0;31mFileNotFoundError\u001b[0m: [Errno 2] No such file or directory: 'otter.jpg'"
     ]
    }
   ],
   "source": [
    "# import the data <3 (copied from week 6)\n",
    "# how can we iterate this to get all the data into numpy arrays?\n",
    "\n",
    "image = load_img('otter.jpg', target_size=(224, 224))\n",
    "# convert the image pixels to a numpy array\n",
    "image = img_to_array(image)\n",
    "# reshape data for the model\n",
    "image = image.reshape((1, image.shape[0], image.shape[1], image.shape[2]))\n",
    "# prepare the image for the densenet model\n",
    "image = preprocess_input(image)\n"
   ]
  },
  {
   "cell_type": "markdown",
   "metadata": {},
   "source": [
    "## Part 1. Splitting and Visualizing Our Data\n",
    "Here, we should:\n",
    "- check class distribution of the full dataset\n",
    "- split the data into training, validation, and testing sets\n",
    "- check the class distribution of the training and validation sets"
   ]
  },
  {
   "cell_type": "code",
   "execution_count": null,
   "metadata": {},
   "outputs": [],
   "source": [
    "### this is a class distribution plotting function I used for text classification - Beck ###\n",
    "\n",
    "def plot_class_distribution(y, title, x_label='Class', y_label='Count', ax=None, y_max_override=None):\n",
    "    # Dynamically set y_max based on the current input data\n",
    "    y_max = y_max_override if y_max_override else max(Counter(y).values()) * 1.2\n",
    "\n",
    "    sns.countplot(x=y, palette='Accent', ax=ax)\n",
    "    ax.set_title(title)\n",
    "    ax.set_xlabel(x_label, size=12, color='grey')\n",
    "    ax.set_xticklabels(['Hate Speech', 'Offensive Language', 'Neither'])\n",
    "    ax.set_ylabel(y_label, size=12, color='grey')\n",
    "    ax.grid()\n",
    "\n",
    "    # Set y-axis limit\n",
    "    ax.set_ylim(0, y_max)\n",
    "\n",
    "    # Add percentage text on top of the bars\n",
    "    for p in ax.patches:\n",
    "        height = p.get_height()\n",
    "        ax.text(p.get_x() + p.get_width()/2, height + (y_max * 0.025), \n",
    "                f'{height/len(y):.2%}', ha='center', color='black', fontsize=10)\n",
    "        \n",
    "        \n",
    "# if we don't want to use a function, we can use the code directly like this:\n",
    "\n",
    "# class_counts = metadata['label'].value_counts()\n",
    "# plt.figure(figsize=(10, 6))\n",
    "# class_counts.plot(kind='bar', color='yellow')\n",
    "# plt.title('Class Distribution')\n",
    "# plt.xlabel('Class Labels')\n",
    "# plt.ylabel('Number of Samples')\n",
    "# plt.xticks(rotation=45)\n",
    "# plt.grid(False)\n",
    "# plt.show()"
   ]
  },
  {
   "cell_type": "code",
   "execution_count": null,
   "metadata": {},
   "outputs": [],
   "source": [
    "# plot the class distribution of the whole dataset\n",
    "plot_class_distribution(metadata['label'], 'Class Distribution of the Dataset')\n"
   ]
  },
  {
   "cell_type": "code",
   "execution_count": null,
   "metadata": {},
   "outputs": [],
   "source": [
    "# split the whole dataset into training and testing sets\n",
    "\n",
    "# use the train_test_split function to split the data\n",
    "X_train, X_test, y_train, y_test = train_test_split(metadata, test_size=0.2, random_state=42)\n"
   ]
  },
  {
   "cell_type": "code",
   "execution_count": null,
   "metadata": {},
   "outputs": [],
   "source": [
    "# plot the distribution of our subsets\n",
    "\n",
    "plot_class_distribution(y_train, 'Class Distribution of the Training Set')\n",
    "plot_class_distribution(y_test, 'Class Distribution of the Testing Set')\n",
    "\n"
   ]
  },
  {
   "cell_type": "markdown",
   "metadata": {},
   "source": [
    "## Part 2. Developing the Model\n",
    "Here, we should decide on and explain our CNN architecture."
   ]
  },
  {
   "cell_type": "code",
   "execution_count": null,
   "metadata": {},
   "outputs": [],
   "source": [
    "# define our model (Nielsen's convolutional neural network from week 4 hw)\n",
    "# what's our input shape? what's our output shape?\n",
    "# some of the extra layers are commented out; we should aim to overfit our code to the testing before we start adding layers back in\n",
    "\n",
    "model = Sequential([\n",
    "        Conv2D(filters=20, kernel_size=(5,5), strides=(1, 1), input_shape=[28,28,1], padding='valid', activation='relu'),\n",
    "        MaxPooling2D(pool_size=(2, 2), strides=2),\n",
    "        # Conv2D(filters=40, kernel_size=(5,5), strides=(1, 1), padding='valid', activation='relu'),\n",
    "        # MaxPooling2D(pool_size=(2, 2), strides=2),\n",
    "        Flatten(),\n",
    "        # Dense(1000, activation='relu'),\n",
    "        # Dropout(0.5),\n",
    "        # Dense(1000, activation='relu'),\n",
    "        # Dropout(0.5),\n",
    "        Dense(10, activation='softmax')\n",
    "        ],\n",
    "        )\n",
    "\n",
    "model.summary()\n"
   ]
  },
  {
   "cell_type": "code",
   "execution_count": null,
   "metadata": {},
   "outputs": [],
   "source": [
    "# compile the model\n",
    "\n",
    "model.compile(optimizer=SGD(learning_rate=0.03), loss='categorical_crossentropy', metrics=['accuracy'])\n",
    "history = model.fit(x_train, y_train, epochs=6, batch_size=32, validation_split=0.1)\n",
    "test_loss, test_acc = model.evaluate(x_test, y_test)\n",
    "print(f\"Test accuracy: {test_acc * 100:.2f}%\")"
   ]
  },
  {
   "cell_type": "markdown",
   "metadata": {},
   "source": [
    "## Part 3. Training the Model"
   ]
  },
  {
   "cell_type": "code",
   "execution_count": null,
   "metadata": {},
   "outputs": [],
   "source": [
    "# train the model on the training set"
   ]
  },
  {
   "cell_type": "code",
   "execution_count": null,
   "metadata": {},
   "outputs": [],
   "source": [
    "# evaluate the model on the test set (copied from other code - Beck)\n",
    "\n",
    "hist = model.history.history    # rename training history for better quality of life\n",
    "\n",
    "# plot of accuracy during training\n",
    "plt.plot(hist['accuracy'], label='Training Accuracy')\n",
    "plt.plot(hist['val_accuracy'], label='Validation Accuracy')\n",
    "plt.xlabel('Epochs')\n",
    "plt.ylabel('Accuracy')\n",
    "plt.legend()\n",
    "plt.show()\n",
    "\n",
    "# plot of loss during training\n",
    "plt.plot(hist['loss'], label='Training Loss')\n",
    "plt.plot(hist['val_loss'], label='Validation Loss')\n",
    "plt.xlabel('Epochs')\n",
    "plt.ylabel('Loss')\n",
    "plt.legend()\n",
    "plt.show()"
   ]
  },
  {
   "cell_type": "code",
   "execution_count": null,
   "metadata": {},
   "outputs": [],
   "source": [
    "# present more evaluation metrics (copied from other code - Beck)\n",
    "\n",
    "y_test_pred_prob = model.predict(X_test)    # get the model's predictions for the test data (in probabilities)\n",
    "y_test_pred = np.argmax(y_test_pred_prob, axis=1)    # convert the predictions to class labels\n",
    "\n",
    "# calculate and print simpler evaluation metrics\n",
    "accuracy = accuracy_score(y_test, y_test_pred)\n",
    "precision = precision_score(y_test, y_test_pred, average='weighted')\n",
    "recall = recall_score(y_test, y_test_pred, average='weighted')\n",
    "f1 = f1_score(y_test, y_test_pred, average='weighted')\n",
    "\n",
    "print('Final Evaluation Metrics (Normalized)')\n",
    "print(f'Accuracy: {accuracy*100:.0f}')\n",
    "print(f'Precision: {precision*100:.0f}')\n",
    "print(f'Recall: {recall*100:.0f}')\n",
    "print(f'F1 Score: {f1*100:.0f}')\n",
    "\n",
    "# create and plot the confusion matrix\n",
    "cm = confusion_matrix(y_test, y_test_pred, normalize='true') * 100  # normalize the confusion matrix and multiply by 100 to show percentages\n",
    "cm_labels = ['Hate Speech', 'Offensive Language', 'Neither']\n",
    "display = metrics.ConfusionMatrixDisplay(confusion_matrix=cm, display_labels=cm_labels)\n",
    "display.plot(cmap='Blues', values_format='.2f') # add color map and format to 2 decimal places\n",
    "plt.title(\"Normalized Confusion Matrix (Percentages)\")\n",
    "plt.grid(False)\n",
    "plt.show()\n"
   ]
  }
 ],
 "metadata": {
  "kernelspec": {
   "display_name": "Python 3",
   "language": "python",
   "name": "python3"
  },
  "language_info": {
   "codemirror_mode": {
    "name": "ipython",
    "version": 3
   },
   "file_extension": ".py",
   "mimetype": "text/x-python",
   "name": "python",
   "nbconvert_exporter": "python",
   "pygments_lexer": "ipython3",
   "version": "3.11.4"
  }
 },
 "nbformat": 4,
 "nbformat_minor": 2
}
