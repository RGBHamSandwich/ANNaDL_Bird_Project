{
 "cells": [
  {
   "cell_type": "markdown",
   "metadata": {},
   "source": [
    "# Birdsong Classification Model\n",
    "by Beck, Carly, River, and Solomon"
   ]
  },
  {
   "cell_type": "markdown",
   "metadata": {},
   "source": [
    "## Part 0. Importing Packages"
   ]
  },
  {
   "cell_type": "code",
   "execution_count": 1,
   "metadata": {},
   "outputs": [],
   "source": [
    "## clean up imports after :) ##\n",
    "# don't forget 'pip install -r requirements.txt'\n",
    "\n",
    "\n",
    "# the usual\n",
    "import numpy as np\n",
    "import pandas as pd\n",
    "import matplotlib.pyplot as plt\n",
    "import seaborn as sns\n",
    "import os\n",
    "# import torch\n",
    "from collections import Counter"
   ]
  },
  {
   "cell_type": "code",
   "execution_count": 2,
   "metadata": {},
   "outputs": [],
   "source": [
    "# tensorflow and tings\n",
    "from tensorflow.keras.models import Sequential\n",
    "from tensorflow.keras.layers import Dense, Dropout, Conv2D, MaxPooling2D, Flatten\n",
    "from tensorflow.keras.optimizers import SGD\n",
    "from tensorflow.keras.preprocessing.image import load_img\n",
    "from tensorflow.keras.preprocessing.image import img_to_array\n",
    "from tensorflow.keras.applications.densenet import preprocess_input"
   ]
  },
  {
   "cell_type": "code",
   "execution_count": 3,
   "metadata": {},
   "outputs": [],
   "source": [
    "# sklearn tings\n",
    "from sklearn.model_selection import train_test_split\n",
    "from sklearn import metrics\n",
    "from sklearn.metrics import (\n",
    "    accuracy_score, precision_score, recall_score, f1_score, \n",
    "    confusion_matrix\n",
    ")\n",
    "from sklearn.preprocessing import LabelEncoder"
   ]
  },
  {
   "cell_type": "code",
   "execution_count": null,
   "metadata": {},
   "outputs": [
    {
     "name": "stdout",
     "output_type": "stream",
     "text": [
      "['Geothlypis trichas_Common Yellowthroat', 'Mniotilta varia_Black-and-white Warbler', 'Protonotaria citrea_Prothonotary Warbler', 'Seiurus aurocapilla_Ovenbird', 'Setophaga aestiva_American Yellow Warbler', 'Setophaga caerulescens_Black-throated Blue Warbler', 'Setophaga cerulea_Cerulean Warbler', 'Setophaga citrina_Hooded Warbler', 'Setophaga coronata_Myrtle Warbler', 'Setophaga discolor_Prairie Warbler', 'Setophaga dominica_Yellow-throated Warbler', 'Setophaga fusca_Blackburnian Warbler', 'Setophaga magnolia_Magnolia Warbler', 'Setophaga pensylvanica_Chestnut-sided Warbler', 'Setophaga pinus_Pine Warbler', 'Setophaga ruticilla_American Redstart', 'Setophaga tigrina_Cape May Warbler', 'Setophaga virens_Black-throated Green Warbler', 'Vermivora chrysoptera_Golden-winged Warbler', 'Vermivora cyanoptera_Blue-winged Warbler']\n"
     ]
    }
   ],
   "source": [
    "## Carly's spectrogram work B)\n",
    "\n",
    "# Locate spectrogram folder\n",
    "folder_path = 'spectrograms'\n",
    "\n",
    "# Initialize lists\n",
    "images = []\n",
    "labels = []\n",
    "\n",
    "# Get the list of all subfolders, each representing a bird type\n",
    "class_names = os.listdir(folder_path)\n",
    "\n",
    "# Create a list of class names based off the directory names (bird types)\n",
    "class_names = os.listdir(folder_path)\n",
    "class_names.remove('.DS_Store') # Not a bird type, but somehow a folder in there, so we remove this from the class names\n",
    "# print(class_names)"
   ]
  },
  {
   "cell_type": "code",
   "execution_count": null,
   "metadata": {},
   "outputs": [],
   "source": [
    "## Carly's spectrogram work B)\n",
    "\n",
    "# Load images and their corresponding labels\n",
    "for class_index, class_name in enumerate(class_names):    \n",
    "\n",
    "    class_folder = os.path.join(folder_path, class_name)\n",
    "    # print(class_folder)\n",
    "    \n",
    "    image_files = os.listdir(class_folder)\n",
    "    # print(image_files)\n",
    "    \n",
    "    for image_file in image_files:\n",
    "        image_path = os.path.join(class_folder, image_file)\n",
    "        \n",
    "        # image = imread(image_path)\n",
    "        \n",
    "        # Load the image, and resize it to 224x224 pixels\n",
    "        image = load_img(image_path, target_size=(224, 224))\n",
    "        # Convert the image pixels to a numpy array\n",
    "        image = img_to_array(image)\n",
    "        # Reshape data for the model to fit a Conv2D layer (our input layer)\n",
    "        image = image.reshape((\n",
    "            1,                  # batch size (we are predicting this many images at a time)\n",
    "            image.shape[0],     # height\n",
    "            image.shape[1],     # width\n",
    "            image.shape[2]      # number of channels (1 for grayscale, 3 for RGB, 4 for RGBA, etc)\n",
    "            ))\n",
    "           \n",
    "        # Append the image data and its label\n",
    "        images.append(image)\n",
    "        labels.append(class_name)  # Use the bird name as the label\n",
    "        \n",
    "# Convert the lists of images and labels to numpy arrays\n",
    "images = np.vstack(images)\n",
    "labels = np.array(labels)   \n",
    "\n",
    "# Encode the labels as integers (CNNs don't like strings)\n",
    "label_encoder = LabelEncoder()\n",
    "labels_encoded = label_encoder.fit_transform(labels)"
   ]
  },
  {
   "cell_type": "markdown",
   "metadata": {},
   "source": [
    "## Part 1. Splitting and Visualizing Our Data\n",
    "Here, we should:\n",
    "- check class distribution of the full dataset\n",
    "- split the data into training, validation, and testing sets\n",
    "- check the class distribution of the training and validation sets"
   ]
  },
  {
   "cell_type": "code",
   "execution_count": 33,
   "metadata": {},
   "outputs": [],
   "source": [
    "### this is a class distribution plotting function I used for text classification - Beck ###\n",
    "\n",
    "def plot_class_distribution(y, title, x_label='Class', y_label='Count', ax=None, y_max_override=None):\n",
    "    # Dynamically set y_max based on the current input data\n",
    "    y_max = y_max_override if y_max_override else max(Counter(y).values()) * 1.2\n",
    "\n",
    "    sns.countplot(x=y, palette='Accent', ax=ax)\n",
    "    ax.set_title(title)\n",
    "    ax.set_xlabel(x_label, size=12, color='grey')\n",
    "    ax.set_ylabel(y_label, size=12, color='grey')\n",
    "    ax.grid()\n",
    "    plt.grid(False)\n",
    "\n",
    "    # Set y-axis limit\n",
    "    ax.set_ylim(0, y_max)\n",
    "\n",
    "    # Add percentage text on top of the bars (if we have space)\n",
    "    # for p in ax.patches:\n",
    "    #     height = p.get_height()\n",
    "    #     ax.text(p.get_x() + p.get_width()/2, height + (y_max * 0.025), \n",
    "    #             f'{height/len(y):.2%}', ha='center', color='black', fontsize=10)\n",
    "        \n",
    "        \n",
    "# if we don't want to use a function, we can use the code directly like this:"
   ]
  },
  {
   "cell_type": "code",
   "execution_count": 34,
   "metadata": {},
   "outputs": [
    {
     "name": "stderr",
     "output_type": "stream",
     "text": [
      "C:\\Users\\rmarshall26\\AppData\\Local\\Temp\\ipykernel_21028\\1841686463.py:7: FutureWarning: \n",
      "\n",
      "Passing `palette` without assigning `hue` is deprecated and will be removed in v0.14.0. Assign the `x` variable to `hue` and set `legend=False` for the same effect.\n",
      "\n",
      "  sns.countplot(x=y, palette='Accent', ax=ax)\n"
     ]
    },
    {
     "data": {
      "image/png": "[encoded data removed]",
      "text/plain": [
       "<Figure size 640x480 with 1 Axes>"
      ]
     },
     "metadata": {},
     "output_type": "display_data"
    }
   ],
   "source": [
    "# plot the class distribution of the whole dataset\n",
    "fig, ax = plt.subplots()\n",
    "plot_class_distribution(labels_encoded, 'Class Distribution of Bird Species', ax=ax)\n",
    "plt.show()\n"
   ]
  },
  {
   "cell_type": "code",
   "execution_count": 35,
   "metadata": {},
   "outputs": [],
   "source": [
    "# split the whole dataset into training and testing sets\n",
    "x_train, x_test, y_train, y_test = train_test_split(images, labels_encoded, test_size=0.2, random_state=42, stratify=labels_encoded)\n",
    "\n"
   ]
  },
  {
   "cell_type": "code",
   "execution_count": 36,
   "metadata": {},
   "outputs": [
    {
     "name": "stderr",
     "output_type": "stream",
     "text": [
      "C:\\Users\\rmarshall26\\AppData\\Local\\Temp\\ipykernel_21028\\1841686463.py:7: FutureWarning: \n",
      "\n",
      "Passing `palette` without assigning `hue` is deprecated and will be removed in v0.14.0. Assign the `x` variable to `hue` and set `legend=False` for the same effect.\n",
      "\n",
      "  sns.countplot(x=y, palette='Accent', ax=ax)\n",
      "C:\\Users\\rmarshall26\\AppData\\Local\\Temp\\ipykernel_21028\\1841686463.py:7: FutureWarning: \n",
      "\n",
      "Passing `palette` without assigning `hue` is deprecated and will be removed in v0.14.0. Assign the `x` variable to `hue` and set `legend=False` for the same effect.\n",
      "\n",
      "  sns.countplot(x=y, palette='Accent', ax=ax)\n"
     ]
    },
    {
     "data": {
      "image/png": "[encoded data removed]",
      "text/plain": [
       "<Figure size 1200x600 with 2 Axes>"
      ]
     },
     "metadata": {},
     "output_type": "display_data"
    }
   ],
   "source": [
    "# plot the distribution of our subsets\n",
    "\n",
    "fig, (ax1, ax2) = plt.subplots(1, 2, figsize=(12, 6))\n",
    "plot_class_distribution(y_train, 'Class Distribution of the Training Set', ax=ax1)\n",
    "plot_class_distribution(y_test, 'Class Distribution of the Testing Set', ax=ax2)\n"
   ]
  },
  {
   "cell_type": "markdown",
   "metadata": {},
   "source": [
    "## Part 2. Developing the Model\n",
    "Here, we should decide on and explain our CNN architecture."
   ]
  },
  {
   "cell_type": "code",
   "execution_count": null,
   "metadata": {},
   "outputs": [],
   "source": [
    "# define our model (Nielsen's convolutional neural network from week 4 hw)\n",
    "# what's our input shape? what's our output shape?\n",
    "# some of the extra layers are commented out; we should aim to overfit our code to the testing before we start adding layers back in\n",
    "\n",
    "model = Sequential([\n",
    "        Conv2D(filters=20, kernel_size=(5,5), strides=(1, 1), input_shape=[28,28,1], padding='valid', activation='relu'),\n",
    "        MaxPooling2D(pool_size=(2, 2), strides=2),\n",
    "        # Conv2D(filters=40, kernel_size=(5,5), strides=(1, 1), padding='valid', activation='relu'),\n",
    "        # MaxPooling2D(pool_size=(2, 2), strides=2),\n",
    "        Flatten(),\n",
    "        # Dense(1000, activation='relu'),\n",
    "        # Dropout(0.5),\n",
    "        # Dense(1000, activation='relu'),\n",
    "        # Dropout(0.5),\n",
    "        Dense(10, activation='softmax')\n",
    "        ],\n",
    "        )\n",
    "\n",
    "model.summary()\n"
   ]
  },
  {
   "cell_type": "code",
   "execution_count": null,
   "metadata": {},
   "outputs": [],
   "source": [
    "# compile the model\n",
    "\n",
    "model.compile(optimizer=SGD(learning_rate=0.03), loss='categorical_crossentropy', metrics=['accuracy'])\n",
    "history = model.fit(x_train, y_train, epochs=6, batch_size=32, validation_split=0.1)\n",
    "test_loss, test_acc = model.evaluate(x_test, y_test)\n",
    "print(f\"Test accuracy: {test_acc * 100:.2f}%\")"
   ]
  },
  {
   "cell_type": "markdown",
   "metadata": {},
   "source": [
    "## Part 3. Training the Model"
   ]
  },
  {
   "cell_type": "code",
   "execution_count": null,
   "metadata": {},
   "outputs": [],
   "source": [
    "# train the model on the training set"
   ]
  },
  {
   "cell_type": "code",
   "execution_count": null,
   "metadata": {},
   "outputs": [],
   "source": [
    "# evaluate the model on the test set (copied from other code - Beck)\n",
    "\n",
    "hist = model.history.history    # rename training history for better quality of life\n",
    "\n",
    "# plot of accuracy during training\n",
    "plt.plot(hist['accuracy'], label='Training Accuracy')\n",
    "plt.plot(hist['val_accuracy'], label='Validation Accuracy')\n",
    "plt.xlabel('Epochs')\n",
    "plt.ylabel('Accuracy')\n",
    "plt.legend()\n",
    "plt.show()\n",
    "\n",
    "# plot of loss during training\n",
    "plt.plot(hist['loss'], label='Training Loss')\n",
    "plt.plot(hist['val_loss'], label='Validation Loss')\n",
    "plt.xlabel('Epochs')\n",
    "plt.ylabel('Loss')\n",
    "plt.legend()\n",
    "plt.show()"
   ]
  },
  {
   "cell_type": "code",
   "execution_count": null,
   "metadata": {},
   "outputs": [],
   "source": [
    "# present more evaluation metrics (copied from other code - Beck)\n",
    "\n",
    "y_test_pred_prob = model.predict(X_test)    # get the model's predictions for the test data (in probabilities)\n",
    "y_test_pred = np.argmax(y_test_pred_prob, axis=1)    # convert the predictions to class labels\n",
    "\n",
    "# calculate and print simpler evaluation metrics\n",
    "accuracy = accuracy_score(y_test, y_test_pred)\n",
    "precision = precision_score(y_test, y_test_pred, average='weighted')\n",
    "recall = recall_score(y_test, y_test_pred, average='weighted')\n",
    "f1 = f1_score(y_test, y_test_pred, average='weighted')\n",
    "\n",
    "print('Final Evaluation Metrics (Normalized)')\n",
    "print(f'Accuracy: {accuracy*100:.0f}')\n",
    "print(f'Precision: {precision*100:.0f}')\n",
    "print(f'Recall: {recall*100:.0f}')\n",
    "print(f'F1 Score: {f1*100:.0f}')\n",
    "\n",
    "# create and plot the confusion matrix\n",
    "cm = confusion_matrix(y_test, y_test_pred, normalize='true') * 100  # normalize the confusion matrix and multiply by 100 to show percentages\n",
    "cm_labels = ['Hate Speech', 'Offensive Language', 'Neither']\n",
    "display = metrics.ConfusionMatrixDisplay(confusion_matrix=cm, display_labels=cm_labels)\n",
    "display.plot(cmap='Blues', values_format='.2f') # add color map and format to 2 decimal places\n",
    "plt.title(\"Normalized Confusion Matrix (Percentages)\")\n",
    "plt.grid(False)\n",
    "plt.show()\n"
   ]
  }
 ],
 "metadata": {
  "kernelspec": {
   "display_name": "Python 3",
   "language": "python",
   "name": "python3"
  },
  "language_info": {
   "codemirror_mode": {
    "name": "ipython",
    "version": 3
   },
   "file_extension": ".py",
   "mimetype": "text/x-python",
   "name": "python",
   "nbconvert_exporter": "python",
   "pygments_lexer": "ipython3",
   "version": "3.11.4"
  }
 },
 "nbformat": 4,
 "nbformat_minor": 2
}
