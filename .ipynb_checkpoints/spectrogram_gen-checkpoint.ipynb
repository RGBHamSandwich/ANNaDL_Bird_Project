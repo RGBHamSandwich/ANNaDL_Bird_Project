{
 "cells": [
  {
   "cell_type": "code",
   "execution_count": 4,
   "id": "2e831d59-8710-4108-94c8-352025436986",
   "metadata": {},
   "outputs": [
    {
     "ename": "FileNotFoundError",
     "evalue": "[Errno 2] No such file or directory: 'data/bird_dataset_shortened'",
     "output_type": "error",
     "traceback": [
      "\u001b[0;31m---------------------------------------------------------------------------\u001b[0m",
      "\u001b[0;31mFileNotFoundError\u001b[0m                         Traceback (most recent call last)",
      "Cell \u001b[0;32mIn[4], line 45\u001b[0m\n\u001b[1;32m     42\u001b[0m output_folder \u001b[38;5;241m=\u001b[39m \u001b[38;5;124m\"\u001b[39m\u001b[38;5;124m./data/spectrograms_shortened\u001b[39m\u001b[38;5;124m\"\u001b[39m\n\u001b[1;32m     44\u001b[0m \u001b[38;5;66;03m# Process the directory\u001b[39;00m\n\u001b[0;32m---> 45\u001b[0m process_directory(input_folder, output_folder)\n\u001b[1;32m     46\u001b[0m \u001b[38;5;28mprint\u001b[39m(\u001b[38;5;124m\"\u001b[39m\u001b[38;5;124mAll spectrograms have been generated.\u001b[39m\u001b[38;5;124m\"\u001b[39m)\n",
      "Cell \u001b[0;32mIn[4], line 32\u001b[0m, in \u001b[0;36mprocess_directory\u001b[0;34m(input_folder, output_folder)\u001b[0m\n\u001b[1;32m     29\u001b[0m os\u001b[38;5;241m.\u001b[39mmakedirs(output_folder, exist_ok\u001b[38;5;241m=\u001b[39m\u001b[38;5;28;01mTrue\u001b[39;00m)\n\u001b[1;32m     31\u001b[0m \u001b[38;5;66;03m# Iterate over all .wav files in the directory\u001b[39;00m\n\u001b[0;32m---> 32\u001b[0m \u001b[38;5;28;01mfor\u001b[39;00m file_name \u001b[38;5;129;01min\u001b[39;00m os\u001b[38;5;241m.\u001b[39mlistdir(input_folder):\n\u001b[1;32m     33\u001b[0m     \u001b[38;5;28;01mif\u001b[39;00m file_name\u001b[38;5;241m.\u001b[39mlower()\u001b[38;5;241m.\u001b[39mendswith(\u001b[38;5;124m\"\u001b[39m\u001b[38;5;124m.wav\u001b[39m\u001b[38;5;124m\"\u001b[39m):\n\u001b[1;32m     34\u001b[0m         wav_file \u001b[38;5;241m=\u001b[39m os\u001b[38;5;241m.\u001b[39mpath\u001b[38;5;241m.\u001b[39mjoin(input_folder, file_name)\n",
      "\u001b[0;31mFileNotFoundError\u001b[0m: [Errno 2] No such file or directory: 'data/bird_dataset_shortened'"
     ]
    }
   ],
   "source": [
    "import os\n",
    "import numpy as np\n",
    "import matplotlib.pyplot as plt\n",
    "from scipy.io import wavfile\n",
    "\n",
    "def generate_spectrogram(wav_file, output_folder):\n",
    "    # Read the WAV file\n",
    "    sample_rate, data = wavfile.read(wav_file)\n",
    "\n",
    "    # If the file is stereo, take only one channel\n",
    "    if len(data.shape) > 1:\n",
    "        data = data[:, 0]\n",
    "\n",
    "    # Generate the spectrogram\n",
    "    plt.specgram(data, Fs=sample_rate, cmap=\"viridis\")\n",
    "\n",
    "    # Extract the file name without extension\n",
    "    file_name = os.path.splitext(os.path.basename(wav_file))[0]\n",
    "\n",
    "    # Save the spectrogram as an image\n",
    "    output_path = os.path.join(output_folder, f\"{file_name}_spectrogram.png\")\n",
    "    plt.axis(\"off\")  # Turn off axes for a cleaner image\n",
    "    plt.savefig(output_path, bbox_inches=\"tight\", pad_inches=0)\n",
    "    plt.close()\n",
    "    print(f\"Spectrogram saved: {output_path}\")\n",
    "\n",
    "def process_directory(input_folder, output_folder):\n",
    "    # Ensure the output folder exists\n",
    "    os.makedirs(output_folder, exist_ok=True)\n",
    "\n",
    "    # Iterate over all .wav files in the directory\n",
    "    for file_name in os.listdir(input_folder):\n",
    "        if file_name.lower().endswith(\".wav\"):\n",
    "            wav_file = os.path.join(input_folder, file_name)\n",
    "            generate_spectrogram(wav_file, output_folder)\n",
    "\n",
    "if __name__ == \"__main__\":\n",
    "    # Input directory containing WAV files\n",
    "    input_folder = \"./data/bird_dataset_shortened\"\n",
    "\n",
    "    # Output directory to save spectrograms\n",
    "    output_folder = \"./data/spectrograms_shortened\"\n",
    "\n",
    "    # Process the directory\n",
    "    process_directory(input_folder, output_folder)\n",
    "    print(\"All spectrograms have been generated.\")\n"
   ]
  },
  {
   "cell_type": "code",
   "execution_count": null,
   "id": "c801584b-d601-45e3-a0ad-826f1caec150",
   "metadata": {},
   "outputs": [],
   "source": []
  }
 ],
 "metadata": {
  "kernelspec": {
   "display_name": "Python 3 (ipykernel)",
   "language": "python",
   "name": "python3"
  },
  "language_info": {
   "codemirror_mode": {
    "name": "ipython",
    "version": 3
   },
   "file_extension": ".py",
   "mimetype": "text/x-python",
   "name": "python",
   "nbconvert_exporter": "python",
   "pygments_lexer": "ipython3",
   "version": "3.11.10"
  }
 },
 "nbformat": 4,
 "nbformat_minor": 5
}
