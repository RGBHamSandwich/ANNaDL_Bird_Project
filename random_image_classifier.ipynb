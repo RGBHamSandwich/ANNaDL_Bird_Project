{
 "cells": [
  {
   "cell_type": "code",
   "execution_count": 1,
   "id": "9d555271-367d-47c1-bea2-4bab925357bb",
   "metadata": {},
   "outputs": [
    {
     "ename": "NameError",
     "evalue": "name 'class_names' is not defined",
     "output_type": "error",
     "traceback": [
      "\u001b[0;31m---------------------------------------------------------------------------\u001b[0m",
      "\u001b[0;31mNameError\u001b[0m                                 Traceback (most recent call last)",
      "Cell \u001b[0;32mIn[1], line 11\u001b[0m\n\u001b[1;32m      8\u001b[0m     \u001b[38;5;28;01mreturn\u001b[39;00m class_names[label]\n\u001b[1;32m     10\u001b[0m \u001b[38;5;66;03m# Get a list of all class directories\u001b[39;00m\n\u001b[0;32m---> 11\u001b[0m class_dirs \u001b[38;5;241m=\u001b[39m [os\u001b[38;5;241m.\u001b[39mpath\u001b[38;5;241m.\u001b[39mjoin(data_dir, class_name) \u001b[38;5;28;01mfor\u001b[39;00m class_name \u001b[38;5;129;01min\u001b[39;00m class_names]\n\u001b[1;32m     13\u001b[0m \u001b[38;5;66;03m# Choose 5 random images directly from the directories\u001b[39;00m\n\u001b[1;32m     14\u001b[0m random_samples \u001b[38;5;241m=\u001b[39m []\n",
      "\u001b[0;31mNameError\u001b[0m: name 'class_names' is not defined"
     ]
    }
   ],
   "source": [
    "import os\n",
    "import random\n",
    "import tensorflow as tf\n",
    "import numpy as np\n",
    "\n",
    "# Define a function to decode the predicted label\n",
    "def decode_label(label):\n",
    "    return class_names[label]\n",
    "\n",
    "# Get a list of all class directories\n",
    "class_dirs = [os.path.join(data_dir, class_name) for class_name in class_names]\n",
    "\n",
    "# Choose 5 random images directly from the directories\n",
    "random_samples = []\n",
    "for _ in range(5):\n",
    "    random_class_dir = random.choice(class_dirs)\n",
    "    random_image = random.choice(os.listdir(random_class_dir))\n",
    "    random_samples.append((random_class_dir, random_image))\n",
    "\n",
    "print(\"Random samples and their predictions:\\n\")\n",
    "\n",
    "for class_dir, image_file in random_samples:\n",
    "    image_path = os.path.join(class_dir, image_file)\n",
    "    \n",
    "    # Load and preprocess the image\n",
    "    image = tf.keras.utils.load_img(image_path, target_size=img_size)\n",
    "    image_array = tf.keras.utils.img_to_array(image) / 255.0  # Normalize to [0, 1]\n",
    "    image_array = np.expand_dims(image_array, axis=0)  # Add batch dimension\n",
    "    \n",
    "    # Get the true class name from the folder structure\n",
    "    true_label = os.path.basename(class_dir)\n",
    "    \n",
    "    # Predict the class\n",
    "    prediction = model.predict(image_array, verbose=0)\n",
    "    predicted_label = np.argmax(prediction, axis=1)[0]\n",
    "    \n",
    "    # Print the results\n",
    "    print(f\"Sample Path: {image_path}\")\n",
    "    print(f\"True Class: {true_label}\")\n",
    "    print(f\"Predicted Class: {decode_label(predicted_label)}\")\n",
    "    print(\"-\" * 40)"
   ]
  }
 ],
 "metadata": {
  "kernelspec": {
   "display_name": "Python 3 (ipykernel)",
   "language": "python",
   "name": "python3"
  },
  "language_info": {
   "codemirror_mode": {
    "name": "ipython",
    "version": 3
   },
   "file_extension": ".py",
   "mimetype": "text/x-python",
   "name": "python",
   "nbconvert_exporter": "python",
   "pygments_lexer": "ipython3",
   "version": "3.12.4"
  }
 },
 "nbformat": 4,
 "nbformat_minor": 5
}
