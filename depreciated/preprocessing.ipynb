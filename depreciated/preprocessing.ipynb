{
 "cells": [
  {
   "cell_type": "code",
   "execution_count": 4,
   "id": "a3dfb0ee-04b7-42a4-b2d0-d2fb0ad424ef",
   "metadata": {},
   "outputs": [],
   "source": [
    "import os\n",
    "import numpy as np\n",
    "import matplotlib.pyplot as plt\n",
    "from sklearn.metrics import accuracy_score\n",
    "from sklearn.linear_model import LogisticRegression\n",
    "from sklearn.model_selection import train_test_split\n",
    "from skimage.io import imread\n",
    "folder_path = '../spectrograms'\n",
    "\n",
    "\n",
    "# Initialize lists\n",
    "images = []\n",
    "labels = []\n",
    "\n",
    "# Get the list of all subfolders, each representing a bird type\n",
    "class_names = os.listdir(folder_path)"
   ]
  },
  {
   "cell_type": "code",
   "execution_count": 5,
   "id": "d85ee709-f80b-45b4-b8d8-1dcb44d5657e",
   "metadata": {},
   "outputs": [
    {
     "name": "stdout",
     "output_type": "stream",
     "text": [
      "['Setophaga magnolia_Magnolia Warbler', 'Setophaga coronata_Myrtle Warbler', 'Setophaga tigrina_Cape May Warbler', 'Setophaga citrina_Hooded Warbler', 'Setophaga dominica_Yellow-throated Warbler', 'Setophaga pinus_Pine Warbler', 'Setophaga caerulescens_Black-throated Blue Warbler', 'Vermivora chrysoptera_Golden-winged Warbler', 'Setophaga aestiva_American Yellow Warbler', 'Protonotaria citrea_Prothonotary Warbler', 'Seiurus aurocapilla_Ovenbird', 'Setophaga virens_Black-throated Green Warbler', 'Vermivora cyanoptera_Blue-winged Warbler', 'Mniotilta varia_Black-and-white Warbler', 'Setophaga ruticilla_American Redstart', 'Setophaga pensylvanica_Chestnut-sided Warbler', 'Setophaga cerulea_Cerulean Warbler', 'Setophaga fusca_Blackburnian Warbler', 'Setophaga discolor_Prairie Warbler', 'Geothlypis trichas_Common Yellowthroat']\n"
     ]
    }
   ],
   "source": [
    "# Create a list of class names based off the directory names (bird types)\n",
    "class_names = os.listdir(folder_path)\n",
    "\n",
    "class_names.remove('.DS_Store') # Not a bird type, but somehow a folder in there, so we remove this from the class names\n",
    "\n",
    "print(class_names)"
   ]
  },
  {
   "cell_type": "code",
   "execution_count": 6,
   "id": "83f1a8e6-1bb7-4eed-a5b7-215d1ed000c1",
   "metadata": {},
   "outputs": [
    {
     "name": "stdout",
     "output_type": "stream",
     "text": [
      "../spectrograms/Setophaga magnolia_Magnolia Warbler\n",
      "['XC144667_spectrogram.png', 'XC189305_spectrogram.png', 'XC691616_spectrogram.png', 'XC556867_spectrogram.png', 'XC191066_spectrogram.png', 'XC561381_spectrogram.png', 'XC192526_spectrogram.png', 'XC187823_spectrogram.png', 'XC624508_spectrogram.png', 'XC828020_spectrogram.png', 'XC721665_spectrogram.png', 'XC319182_spectrogram.png', 'XC753188_spectrogram.png', 'XC140016_spectrogram.png', 'XC173692_spectrogram.png', 'XC173706_spectrogram.png', 'XC330489_spectrogram.png', 'XC13776_spectrogram.png', 'XC189304_spectrogram.png', 'XC787201_spectrogram.png', 'XC134515_spectrogram.png', 'XC721662_spectrogram.png', 'XC133365_spectrogram.png', 'XC828027_spectrogram.png', 'XC694664_spectrogram.png', 'XC173715_spectrogram.png', 'XC828022_spectrogram.png', 'XC315292_spectrogram.png', 'XC189601_spectrogram.png', 'XC133243_spectrogram.png', 'XC380135_spectrogram.png', 'XC501247_spectrogram.png', 'XC189082_spectrogram.png', 'XC512264_spectrogram.png', 'XC173703_spectrogram.png', 'XC599656_spectrogram.png', 'XC480378_spectrogram.png', 'XC182794_spectrogram.png', 'XC729497_spectrogram.png', 'XC188911_spectrogram.png', 'XC52445_spectrogram.png', 'XC49865_spectrogram.png', 'XC134517_spectrogram.png', 'XC828025_spectrogram.png', 'XC188909_spectrogram.png', 'XC380133_spectrogram.png', 'XC188910_spectrogram.png', 'XC135643_spectrogram.png', 'XC915936_spectrogram.png', 'XC501246_spectrogram.png']\n",
      "../spectrograms/Setophaga coronata_Myrtle Warbler\n",
      "['XC322987_spectrogram.png', 'XC692219_spectrogram.png', 'XC188141_spectrogram.png', 'XC353603_spectrogram.png', 'XC189415_spectrogram.png', 'XC322988_spectrogram.png', 'XC753171_spectrogram.png', 'XC59123_spectrogram.png', 'XC322977_spectrogram.png', 'XC469599_spectrogram.png', 'XC353591_spectrogram.png', 'XC135650_spectrogram.png', 'XC322980_spectrogram.png', 'XC898003_spectrogram.png', 'XC729517_spectrogram.png', 'XC602693_spectrogram.png', 'XC448183_spectrogram.png', 'XC753170_spectrogram.png', 'XC640361_spectrogram.png', 'XC839518_spectrogram.png', 'XC692222_spectrogram.png', 'XC433107_spectrogram.png', 'XC378355_spectrogram.png', 'XC645153_spectrogram.png', 'XC322986_spectrogram.png', 'XC138635_spectrogram.png', 'XC602694_spectrogram.png', 'XC133249_spectrogram.png', 'XC296194_spectrogram.png', 'XC692220_spectrogram.png', 'XC551319_spectrogram.png', 'XC381698_spectrogram.png', 'XC353600_spectrogram.png', 'XC138277_spectrogram.png', 'XC13585_spectrogram.png', 'XC190067_spectrogram.png', 'XC602699_spectrogram.png', 'XC193661_spectrogram.png', 'XC570786_spectrogram.png', 'XC798976_spectrogram.png', 'XC296409_spectrogram.png', 'XC188353_spectrogram.png', 'XC389496_spectrogram.png', 'XC190069_spectrogram.png', 'XC320341_spectrogram.png', 'XC353593_spectrogram.png', 'XC244402_spectrogram.png', 'XC898134_spectrogram.png', 'XC186314_spectrogram.png', 'XC692221_spectrogram.png']\n",
      "../spectrograms/Setophaga tigrina_Cape May Warbler\n",
      "['XC467615_spectrogram.png', 'XC77880_spectrogram.png', 'XC600720_spectrogram.png', 'XC103509_spectrogram.png', 'XC101865_spectrogram.png', 'XC103506_spectrogram.png', 'XC13745_spectrogram.png', 'XC184369_spectrogram.png', 'XC902334_spectrogram.png', 'XC176258_spectrogram.png', 'XC134013_spectrogram.png', 'XC181946_spectrogram.png', 'XC177090_spectrogram.png', 'XC179598_spectrogram.png', 'XC13743_spectrogram.png', 'XC784610_spectrogram.png', 'XC164552_spectrogram.png', 'XC182791_spectrogram.png', 'XC784609_spectrogram.png', 'XC241870_spectrogram.png', 'XC297400_spectrogram.png', 'XC600721_spectrogram.png', 'XC13744_spectrogram.png', 'XC902332_spectrogram.png', 'XC103507_spectrogram.png', 'XC253811_spectrogram.png', 'XC67173_spectrogram.png', 'XC451824_spectrogram.png', 'XC135527_spectrogram.png', 'XC902337_spectrogram.png', 'XC180076_spectrogram.png', 'XC181944_spectrogram.png', 'XC134506_spectrogram.png', 'XC523127_spectrogram.png', 'XC180079_spectrogram.png', 'XC466992_spectrogram.png', 'XC135531_spectrogram.png', 'XC319402_spectrogram.png', 'XC180086_spectrogram.png', 'XC313868_spectrogram.png', 'XC241872_spectrogram.png', 'XC137058_spectrogram.png', 'XC784614_spectrogram.png', 'XC185076_spectrogram.png', 'XC52354_spectrogram.png', 'XC241873_spectrogram.png', 'XC319661_spectrogram.png', 'XC902336_spectrogram.png', 'XC136069_spectrogram.png', 'XC135530_spectrogram.png']\n"
     ]
    }
   ],
   "source": [
    "# Load images and their corresponding labels\n",
    "\n",
    "for class_index, class_name in enumerate(class_names[:3]): # Slicing to three classes for troubleshooting\n",
    "    \n",
    "    class_folder = os.path.join(folder_path, class_name)\n",
    "\n",
    "    print(class_folder)\n",
    "    \n",
    "    image_files = os.listdir(class_folder)\n",
    "\n",
    "    print(image_files)\n",
    "    \n",
    "    for image_file in image_files:\n",
    "        image_path = os.path.join(class_folder, image_file)\n",
    "        \n",
    "        image = imread(image_path)\n",
    "        \n",
    "        # Append the image data and its label\n",
    "        images.append(image)\n",
    "        labels.append(class_name)  # Use the bird name as the label"
   ]
  }
 ],
 "metadata": {
  "kernelspec": {
   "display_name": "Python 3 (ipykernel)",
   "language": "python",
   "name": "python3"
  },
  "language_info": {
   "codemirror_mode": {
    "name": "ipython",
    "version": 3
   },
   "file_extension": ".py",
   "mimetype": "text/x-python",
   "name": "python",
   "nbconvert_exporter": "python",
   "pygments_lexer": "ipython3",
   "version": "3.12.7"
  }
 },
 "nbformat": 4,
 "nbformat_minor": 5
}
